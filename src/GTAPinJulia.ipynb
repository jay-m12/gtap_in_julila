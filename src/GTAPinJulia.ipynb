{
 "cells": [
  {
   "cell_type": "code",
   "execution_count": null,
   "metadata": {},
   "outputs": [],
   "source": [
    "module GTAPinJulia\n",
    "\n",
    "using JuMP, PATHSolver, CSV, DataFrames\n",
    "\n",
    "PATHSolver.c_api_License_SetString(\"2830898829&Courtesy&&&USR&45321&5_1_2021&1000&PATH&GEN&31_12_2025&0_0_0&6000&0_0\")\n",
    "\n",
    "include(\"macros.jl\")\n"
   ]
  }
 ],
 "metadata": {
  "language_info": {
   "name": "python"
  }
 },
 "nbformat": 4,
 "nbformat_minor": 2
}

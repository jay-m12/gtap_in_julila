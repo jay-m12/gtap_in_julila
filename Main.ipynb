{
 "cells": [
  {
   "cell_type": "markdown",
   "metadata": {
    "vscode": {
     "languageId": "julia"
    }
   },
   "source": [
    "# Load the database and model"
   ]
  },
  {
   "cell_type": "code",
   "execution_count": 1,
   "metadata": {},
   "outputs": [
    {
     "data": {
      "text/plain": [
       "A JuMP Model\n",
       "├ solver: Path 5.0.03\n",
       "├ objective_sense: FEASIBILITY_SENSE\n",
       "├ num_variables: 56867\n",
       "├ num_constraints: 44676\n",
       "│ ├ Vector{JuMP.NonlinearExpr} in MOI.Complements: 10847\n",
       "│ ├ Vector{JuMP.AffExpr} in MOI.Complements: 2191\n",
       "│ ├ Vector{JuMP.QuadExpr} in MOI.Complements: 9266\n",
       "│ └ JuMP.VariableRef in MOI.EqualTo{Float64}: 22372\n",
       "└ Names registered in the model\n",
       "  └ :Walras, :chi_qe, :chisave, :conshr, :eq_Walras, :eq_chisave, :eq_conshr, :eq_fincome, :eq_gdpfc, :eq_indtax, :eq_kb, :eq_ke, :eq_pca, :eq_pcif, :eq_pds, :eq_pe, :eq_peb, :eq_pes, :eq_pfa, :eq_pfact, :eq_pfactw, :eq_pfd, :eq_pfe, :eq_pfm, :eq_pfob, :eq_pga, :eq_pgd, :eq_pgm, :eq_pgov, :eq_pia, :eq_pid, :eq_pim, :eq_pint, :eq_pinv, :eq_pmds, :eq_pms, :eq_po, :eq_ppa, :eq_ppd, :eq_ppm, :eq_ps, :eq_psave, :eq_pt, :eq_ptrans, :eq_pva, :eq_qc, :eq_qca, :eq_qds, :eq_qe, :eq_qfa, :eq_qfd, :eq_qfe, :eq_qfm, :eq_qga, :eq_qgd, :eq_qgm, :eq_qia, :eq_qid, :eq_qim, :eq_qint, :eq_qinv, :eq_qms, :eq_qo, :eq_qpa, :eq_qpd, :eq_qpm, :eq_qsave, :eq_qst, :eq_qtm, :eq_qtmfsd, :eq_qva, :eq_qxs, :eq_rental, :eq_rorc, :eq_rore, :eq_rorg, :eq_savf, :eq_savfRes, :eq_taxrexp, :eq_taxrfu, :eq_taxrgc, :eq_taxric, :eq_taxrimp, :eq_taxriu, :eq_taxrout, :eq_taxrpc, :eq_u, :eq_uelas, :eq_uepriv, :eq_ug, :eq_up, :eq_us, :eq_xg, :eq_y, :eq_yg, :eq_yi, :eq_yp, :eq_zshr, :fincome, :gdpfc, :indtax, :kb, :ke, :pca, :pcif, :pds, :pe, :peb, :pes, :pfa, :pfact, :pfactw, :pfd, :pfe, :pfm, :pfob, :pga, :pgd, :pgm, :pgov, :pia, :pid, :pim, :pint, :pinv, :pmds, :pms, :pnum, :po, :pop, :ppa, :ppd, :ppm, :ps, :psave, :pt, :ptax, :ptrans, :pva, :qc, :qca, :qds, :qe, :qfa, :qfd, :qfe, :qfm, :qga, :qgd, :qgm, :qia, :qid, :qim, :qint, :qinv, :qms, :qo, :qpa, :qpd, :qpm, :qst, :qtm, :qtmfsd, :qva, :qxs, :rental, :rorc, :rore, :rorg, :save, :savf, :taxrexp, :taxrfu, :taxrgc, :taxric, :taxrimp, :taxriu, :taxrout, :taxrpc, :tfd, :tfe, :tfm, :tgd, :tgm, :tid, :tim, :tinc, :tmarg, :tms, :tpd, :tpm, :txs, :u, :uelas, :uepriv, :ug, :up, :us, :xg, :y, :yg, :yi, :yp, :zshr"
      ]
     },
     "metadata": {},
     "output_type": "display_data"
    }
   ],
   "source": [
    "include(\"src/GTAPinJulia.jl\")\n",
    "using .GTAPinJulia\n",
    "\n",
    "#   Choose a database and model options\n",
    "\n",
    "if true\n",
    "    inFolder    = \"Data/DBUG0\"\n",
    "    BaseName    = \"DBUG0\"\n",
    "    resName     = :USA\n",
    "    capName     = :cap\n",
    "    nrsFact     = [:nrs]\n",
    "    savfClosure = :capFix\n",
    "else\n",
    "    inFolder    = \"Data/3x3\"\n",
    "    BaseName    = \"3x3\"\n",
    "    resName     = :USA\n",
    "    capName     = :CAP\n",
    "    nrsFact     = [:xxx]\n",
    "    savfClosure = :capFix\n",
    "end\n",
    "inscale  = 1e-6\n",
    "popscale = 1e-3\n",
    "\n",
    "#   Get the GTAP data, initialize the model variables and calibrate the model parameters\n",
    "data = GTAPinJulia.load_gtap_data(; inFolder = inFolder, BaseName = BaseName, inscale = inscale, popscale = popscale, resName = resName, capName = capName, nrsFact = nrsFact)\n",
    "\n",
    "#   Define the model\n",
    "#   The capital closure options are:\n",
    "#    1. RoRFlex--standard GTAP closure with foreign savings to equate expected rates of return\n",
    "#    2. capFix--Foreign savings fixed (wrt to model numéraire)\n",
    "#    3. capShrFix--Foreign savings fixed wrt to GDP (requires a residual region)\n",
    "\n",
    "GTAPModel = GTAPinJulia.GTAPModel(data, resName = resName, capName = capName, savfClosure = savfClosure)\n"
   ]
  },
  {
   "cell_type": "markdown",
   "metadata": {},
   "source": [
    "#   Fix the standard exogenous variables:\n",
    "- tax rates\n",
    "- trade margins\n",
    "- factor supply shifter\n",
    "- population"
   ]
  },
  {
   "cell_type": "code",
   "execution_count": 2,
   "metadata": {},
   "outputs": [],
   "source": [
    "#   Fix the exogenous variables\n",
    "GTAPinJulia.fix.(GTAPModel[:ptax], data[:ptax0]; force=true)\n",
    "GTAPinJulia.fix.(GTAPModel[:tfe], data[:tfe0]; force=true)\n",
    "GTAPinJulia.fix.(GTAPModel[:tinc],data[:tinc0]; force=true)\n",
    "\n",
    "GTAPinJulia.fix.(GTAPModel[:tfd], data[:tfd0]; force=true)\n",
    "GTAPinJulia.fix.(GTAPModel[:tfm], data[:tfm0]; force=true)\n",
    "GTAPinJulia.fix.(GTAPModel[:tpd], data[:tpd0]; force=true)\n",
    "GTAPinJulia.fix.(GTAPModel[:tpm], data[:tpm0]; force=true)\n",
    "GTAPinJulia.fix.(GTAPModel[:tgd], data[:tgd0]; force=true)\n",
    "GTAPinJulia.fix.(GTAPModel[:tgm], data[:tgm0]; force=true)\n",
    "GTAPinJulia.fix.(GTAPModel[:tid], data[:tid0]; force=true)\n",
    "GTAPinJulia.fix.(GTAPModel[:tim], data[:tim0]; force=true)\n",
    "\n",
    "GTAPinJulia.fix.(GTAPModel[:txs], data[:txs0]; force=true)\n",
    "GTAPinJulia.fix.(GTAPModel[:tmarg], data[:tmarg0]; force=true)\n",
    "GTAPinJulia.fix.(GTAPModel[:tms], data[:tms0]; force=true)\n",
    "\n",
    "GTAPinJulia.fix.(GTAPModel[:chi_qe], 1.0; force=true)\n",
    "GTAPinJulia.fix.(GTAPModel[:pop], data[:pop0]; force=true)\n",
    "GTAPinJulia.fix.(GTAPModel[:pnum], 1.0; force=true)\n"
   ]
  },
  {
   "cell_type": "markdown",
   "metadata": {},
   "source": [
    "#   Run the benchmark simulation"
   ]
  },
  {
   "cell_type": "code",
   "execution_count": 5,
   "metadata": {},
   "outputs": [
    {
     "name": "stdout",
     "output_type": "stream",
     "text": [
      "Reading options file C:\\Users\\vandermd\\AppData\\Local\\Temp\\jl_B364.tmp\n",
      " > cumulative_iteration_limit 10000\n",
      "Read of options file complete.\n",
      "\n",
      "Path 5.0.03 (Fri Jun 26 10:05:33 2020)\n",
      "Written by Todd Munson, Steven Dirkse, Youngdae Kim, and Michael Ferris\n",
      "\n",
      "Preprocessed size   : 22304\n",
      "\n",
      "Crash Log\n",
      "major  func  diff  size  residual    step       prox   (label)\n",
      "    0     0             5.5489e-06             0.0e+00 (eq_yg[SAS)\n",
      "    1     1     0 22304 2.0196e-07  1.0e+00    0.0e+00 (eq_qfe[nsk,WND-a,RUS)\n",
      "pn_search terminated: no basis change.\n",
      "\n",
      "Major Iteration Log\n",
      "major minor  func  grad  residual    step  type prox    inorm  (label)\n",
      "    0     0     2     2 2.0196e-07           I 0.0e+00 1.4e-07 (eq_qfe[nsk,WND-)\n",
      "\n",
      "Major Iterations. . . . 0\n",
      "Minor Iterations. . . . 0\n",
      "Restarts. . . . . . . . 0\n",
      "Crash Iterations. . . . 1\n",
      "Gradient Steps. . . . . 0\n",
      "Function Evaluations. . 2\n",
      "Gradient Evaluations. . 2\n",
      "Basis Time. . . . . . . 0.031000\n",
      "Total Time. . . . . . . 0.109000\n",
      "Residual. . . . . . . . 2.019579e-07\n",
      "Postsolved residual: 2.0196e-07\n"
     ]
    },
    {
     "ename": "LoadError",
     "evalue": "LoadError: ParseError:\n# Error @ v:\\Julia\\GTAPinJulia\\src\\reporting.jl:48:219\n    for a∈acts\n        values = @. outscale*value(GTAPMod[:qfd][comm,a,reg]*GTAPMod[:pds][comm,reg]*data[:qfd0][comm,a,reg]*data[:pds0][comm,reg]+GTAPMod[:qfm][comm,a,reg]*GTAPMod[:pms][comm,reg]*data[:qfm0[comm,a,reg]*pms0[comm,reg])\n#                                                                                                                                                                                                                         └ ── Expected `]`\nin expression starting at v:\\Julia\\GTAPinJulia\\src\\reporting.jl:48",
     "output_type": "error",
     "traceback": [
      "LoadError: ParseError:\n",
      "# Error @ v:\\Julia\\GTAPinJulia\\src\\reporting.jl:48:219\n",
      "    for a∈acts\n",
      "        values = @. outscale*value(GTAPMod[:qfd][comm,a,reg]*GTAPMod[:pds][comm,reg]*data[:qfd0][comm,a,reg]*data[:pds0][comm,reg]+GTAPMod[:qfm][comm,a,reg]*GTAPMod[:pms][comm,reg]*data[:qfm0[comm,a,reg]*pms0[comm,reg])\n",
      "#                                                                                                                                                                                                                         └ ── Expected `]`\n",
      "in expression starting at v:\\Julia\\GTAPinJulia\\src\\reporting.jl:48\n",
      "\n",
      "Stacktrace:\n",
      " [1] top-level scope\n",
      "   @ v:\\Julia\\GTAPinJulia\\src\\reporting.jl:48"
     ]
    }
   ],
   "source": [
    "# Benchmark\n",
    "GTAPinJulia.fix(GTAPModel[:pnum], 1; force=true)\n",
    "\n",
    "GTAPinJulia.set_attribute(GTAPModel, \"cumulative_iteration_limit\", 10_000)\n",
    "GTAPinJulia.optimize!(GTAPModel)\n",
    "\n",
    "#   Include the output functions\n",
    "# include(\"src/reporting.jl\")"
   ]
  },
  {
   "cell_type": "markdown",
   "metadata": {},
   "source": [
    "#   Run the homogeneity test"
   ]
  },
  {
   "cell_type": "code",
   "execution_count": 4,
   "metadata": {},
   "outputs": [
    {
     "name": "stdout",
     "output_type": "stream",
     "text": [
      "Reading options file C:\\Users\\vandermd\\AppData\\Local\\Temp\\jl_2D5A.tmp\n",
      " > cumulative_iteration_limit 10000\n",
      "Read of options file complete.\n",
      "\n",
      "Path 5.0.03 (Fri Jun 26 10:05:33 2020)\n",
      "Written by Todd Munson, Steven Dirkse, Youngdae Kim, and Michael Ferris\n",
      "\n",
      "Preprocessed size   : 22304\n",
      "\n",
      "Crash Log\n",
      "major  func  diff  size  residual    step       prox   (label)\n",
      "    0     0             2.5129e-01             0.0e+00 (eq_Walra)\n",
      "    1     1     0 22304 2.9722e-03  1.0e+00    0.0e+00 (eq_ror)\n",
      "pn_search terminated: no basis change.\n",
      "\n",
      "Major Iteration Log\n",
      "major minor  func  grad  residual    step  type prox    inorm  (label)\n",
      "    0     0     2     2 2.9722e-03           I 0.0e+00 3.0e-03 (eq_ror)\n",
      "    1     1     3     3 1.5445e-09  1.0e+00 SO 0.0e+00 1.4e-09 (eq_qfe[nsk,WND-)\n",
      "\n",
      "Major Iterations. . . . 1\n",
      "Minor Iterations. . . . 1\n",
      "Restarts. . . . . . . . 0\n",
      "Crash Iterations. . . . 1\n",
      "Gradient Steps. . . . . 0\n",
      "Function Evaluations. . 3\n",
      "Gradient Evaluations. . 3\n",
      "Basis Time. . . . . . . 0.062000\n",
      "Total Time. . . . . . . 0.156000\n",
      "Residual. . . . . . . . 1.544539e-09\n",
      "Postsolved residual: 1.5445e-09\n"
     ]
    }
   ],
   "source": [
    "GTAPinJulia.set_attribute(GTAPModel, \"cumulative_iteration_limit\", 10_000)\n",
    "\n",
    "GTAPinJulia.fix(GTAPModel[:pnum], 1.2; force=true)\n",
    "\n",
    "GTAPinJulia.optimize!(GTAPModel)"
   ]
  }
 ],
 "metadata": {
  "kernelspec": {
   "display_name": "Julia 1.10.4",
   "language": "julia",
   "name": "julia-1.10"
  },
  "language_info": {
   "file_extension": ".jl",
   "mimetype": "application/julia",
   "name": "julia",
   "version": "1.10.4"
  }
 },
 "nbformat": 4,
 "nbformat_minor": 2
}
